{
 "cells": [
  {
   "cell_type": "markdown",
   "metadata": {},
   "source": [
    "Install python libraries indicated in file \"libraries_requirements.txt\""
   ]
  },
  {
   "cell_type": "code",
   "execution_count": 1,
   "metadata": {},
   "outputs": [
    {
     "name": "stdout",
     "output_type": "stream",
     "text": [
      "Package            VersionNote: you may need to restart the kernel to use updated packages.\n",
      "\n",
      "------------------ -----------\n",
      "asttokens          2.4.1\n",
      "Bottleneck         1.4.0\n",
      "cdasws             1.8.2\n",
      "certifi            2024.7.4\n",
      "charset-normalizer 3.3.2\n",
      "colorama           0.4.6\n",
      "comm               0.2.2\n",
      "contourpy          1.2.1\n",
      "cycler             0.12.1\n",
      "debugpy            1.8.2\n",
      "decorator          5.1.1\n",
      "executing          2.0.1\n",
      "fonttools          4.53.1\n",
      "gitdb              4.0.11\n",
      "GitPython          3.1.43\n",
      "h5py               3.11.0\n",
      "hurst              0.0.5\n",
      "idna               3.7\n",
      "ipykernel          6.29.5\n",
      "ipympl             0.9.4\n",
      "ipython            8.26.0\n",
      "ipython-genutils   0.2.0\n",
      "ipywidgets         8.1.3\n",
      "jedi               0.19.1\n",
      "jupyter_client     8.6.2\n",
      "jupyter_core       5.7.2\n",
      "jupyterlab_widgets 3.0.11\n",
      "kiwisolver         1.4.5\n",
      "llvmlite           0.43.0\n",
      "matplotlib         3.9.1\n",
      "matplotlib-inline  0.1.7\n",
      "missingno          0.5.2\n",
      "nest-asyncio       1.6.0\n",
      "numba              0.60.0\n",
      "numpy              2.0.0\n",
      "ordpy              1.1.3\n",
      "packaging          24.1\n",
      "pandas             2.2.2\n",
      "parso              0.8.4\n",
      "pillow             10.4.0\n",
      "pip                24.1.1\n",
      "platformdirs       4.2.2\n",
      "prompt_toolkit     3.0.47\n",
      "psutil             6.0.0\n",
      "pure-eval          0.2.2\n",
      "Pygments           2.18.0\n",
      "pyparsing          3.1.2\n",
      "python-dateutil    2.9.0.post0\n",
      "pytz               2024.1\n",
      "pywin32            306\n",
      "pyzmq              26.0.3\n",
      "requests           2.32.3\n",
      "scipy              1.14.0\n",
      "seaborn            0.13.2\n",
      "setuptools         65.5.0\n",
      "six                1.16.0\n",
      "smmap              5.0.1\n",
      "spacepy            0.6.0\n",
      "stack-data         0.6.3\n",
      "tornado            6.4.1\n",
      "traitlets          5.14.3\n",
      "typing_extensions  4.12.2\n",
      "tzdata             2024.1\n",
      "urllib3            2.2.2\n",
      "wcwidth            0.2.13\n",
      "widgetsnbextension 4.0.11\n"
     ]
    }
   ],
   "source": [
    "pip list "
   ]
  },
  {
   "cell_type": "code",
   "execution_count": 2,
   "metadata": {},
   "outputs": [
    {
     "name": "stdout",
     "output_type": "stream",
     "text": [
      "Requirement already satisfied: numpy==2.0.0 in c:\\users\\pauline\\onedrive - queen mary, university of london\\repo_postdoc_2023_2025\\space_weather_project\\.venv\\lib\\site-packages (from -r libraries_requirements.txt (line 1)) (2.0.0)\n",
      "Requirement already satisfied: matplotlib==3.9.1 in c:\\users\\pauline\\onedrive - queen mary, university of london\\repo_postdoc_2023_2025\\space_weather_project\\.venv\\lib\\site-packages (from -r libraries_requirements.txt (line 2)) (3.9.1)\n",
      "Requirement already satisfied: pandas==2.2.2 in c:\\users\\pauline\\onedrive - queen mary, university of london\\repo_postdoc_2023_2025\\space_weather_project\\.venv\\lib\\site-packages (from -r libraries_requirements.txt (line 3)) (2.2.2)\n",
      "Requirement already satisfied: h5py==3.11.0 in c:\\users\\pauline\\onedrive - queen mary, university of london\\repo_postdoc_2023_2025\\space_weather_project\\.venv\\lib\\site-packages (from -r libraries_requirements.txt (line 4)) (3.11.0)\n",
      "Requirement already satisfied: ordpy==1.1.3 in c:\\users\\pauline\\onedrive - queen mary, university of london\\repo_postdoc_2023_2025\\space_weather_project\\.venv\\lib\\site-packages (from -r libraries_requirements.txt (line 5)) (1.1.3)\n",
      "Requirement already satisfied: bottleneck==1.4.0 in c:\\users\\pauline\\onedrive - queen mary, university of london\\repo_postdoc_2023_2025\\space_weather_project\\.venv\\lib\\site-packages (from -r libraries_requirements.txt (line 6)) (1.4.0)\n",
      "Requirement already satisfied: scipy==1.14.0 in c:\\users\\pauline\\onedrive - queen mary, university of london\\repo_postdoc_2023_2025\\space_weather_project\\.venv\\lib\\site-packages (from -r libraries_requirements.txt (line 7)) (1.14.0)\n",
      "Requirement already satisfied: numba==0.60.0 in c:\\users\\pauline\\onedrive - queen mary, university of london\\repo_postdoc_2023_2025\\space_weather_project\\.venv\\lib\\site-packages (from -r libraries_requirements.txt (line 8)) (0.60.0)\n",
      "Requirement already satisfied: spacepy==0.6.0 in c:\\users\\pauline\\onedrive - queen mary, university of london\\repo_postdoc_2023_2025\\space_weather_project\\.venv\\lib\\site-packages (from -r libraries_requirements.txt (line 9)) (0.6.0)\n",
      "Requirement already satisfied: cdasws==1.8.2 in c:\\users\\pauline\\onedrive - queen mary, university of london\\repo_postdoc_2023_2025\\space_weather_project\\.venv\\lib\\site-packages (from -r libraries_requirements.txt (line 10)) (1.8.2)\n",
      "Requirement already satisfied: gitpython==3.1.43 in c:\\users\\pauline\\onedrive - queen mary, university of london\\repo_postdoc_2023_2025\\space_weather_project\\.venv\\lib\\site-packages (from -r libraries_requirements.txt (line 11)) (3.1.43)\n",
      "Requirement already satisfied: missingno==0.5.2 in c:\\users\\pauline\\onedrive - queen mary, university of london\\repo_postdoc_2023_2025\\space_weather_project\\.venv\\lib\\site-packages (from -r libraries_requirements.txt (line 12)) (0.5.2)\n",
      "Requirement already satisfied: ipympl==0.9.4 in c:\\users\\pauline\\onedrive - queen mary, university of london\\repo_postdoc_2023_2025\\space_weather_project\\.venv\\lib\\site-packages (from -r libraries_requirements.txt (line 13)) (0.9.4)\n",
      "Requirement already satisfied: contourpy>=1.0.1 in c:\\users\\pauline\\onedrive - queen mary, university of london\\repo_postdoc_2023_2025\\space_weather_project\\.venv\\lib\\site-packages (from matplotlib==3.9.1->-r libraries_requirements.txt (line 2)) (1.2.1)\n",
      "Requirement already satisfied: cycler>=0.10 in c:\\users\\pauline\\onedrive - queen mary, university of london\\repo_postdoc_2023_2025\\space_weather_project\\.venv\\lib\\site-packages (from matplotlib==3.9.1->-r libraries_requirements.txt (line 2)) (0.12.1)\n",
      "Requirement already satisfied: fonttools>=4.22.0 in c:\\users\\pauline\\onedrive - queen mary, university of london\\repo_postdoc_2023_2025\\space_weather_project\\.venv\\lib\\site-packages (from matplotlib==3.9.1->-r libraries_requirements.txt (line 2)) (4.53.1)\n",
      "Requirement already satisfied: kiwisolver>=1.3.1 in c:\\users\\pauline\\onedrive - queen mary, university of london\\repo_postdoc_2023_2025\\space_weather_project\\.venv\\lib\\site-packages (from matplotlib==3.9.1->-r libraries_requirements.txt (line 2)) (1.4.5)\n",
      "Requirement already satisfied: packaging>=20.0 in c:\\users\\pauline\\onedrive - queen mary, university of london\\repo_postdoc_2023_2025\\space_weather_project\\.venv\\lib\\site-packages (from matplotlib==3.9.1->-r libraries_requirements.txt (line 2)) (24.1)\n",
      "Requirement already satisfied: pillow>=8 in c:\\users\\pauline\\onedrive - queen mary, university of london\\repo_postdoc_2023_2025\\space_weather_project\\.venv\\lib\\site-packages (from matplotlib==3.9.1->-r libraries_requirements.txt (line 2)) (10.4.0)\n",
      "Requirement already satisfied: pyparsing>=2.3.1 in c:\\users\\pauline\\onedrive - queen mary, university of london\\repo_postdoc_2023_2025\\space_weather_project\\.venv\\lib\\site-packages (from matplotlib==3.9.1->-r libraries_requirements.txt (line 2)) (3.1.2)\n",
      "Requirement already satisfied: python-dateutil>=2.7 in c:\\users\\pauline\\onedrive - queen mary, university of london\\repo_postdoc_2023_2025\\space_weather_project\\.venv\\lib\\site-packages (from matplotlib==3.9.1->-r libraries_requirements.txt (line 2)) (2.9.0.post0)\n",
      "Requirement already satisfied: pytz>=2020.1 in c:\\users\\pauline\\onedrive - queen mary, university of london\\repo_postdoc_2023_2025\\space_weather_project\\.venv\\lib\\site-packages (from pandas==2.2.2->-r libraries_requirements.txt (line 3)) (2024.1)\n",
      "Requirement already satisfied: tzdata>=2022.7 in c:\\users\\pauline\\onedrive - queen mary, university of london\\repo_postdoc_2023_2025\\space_weather_project\\.venv\\lib\\site-packages (from pandas==2.2.2->-r libraries_requirements.txt (line 3)) (2024.1)\n",
      "Requirement already satisfied: llvmlite<0.44,>=0.43.0dev0 in c:\\users\\pauline\\onedrive - queen mary, university of london\\repo_postdoc_2023_2025\\space_weather_project\\.venv\\lib\\site-packages (from numba==0.60.0->-r libraries_requirements.txt (line 8)) (0.43.0)\n",
      "Requirement already satisfied: requests>=2.20 in c:\\users\\pauline\\onedrive - queen mary, university of london\\repo_postdoc_2023_2025\\space_weather_project\\.venv\\lib\\site-packages (from cdasws==1.8.2->-r libraries_requirements.txt (line 10)) (2.32.3)\n",
      "Requirement already satisfied: urllib3>=1.24.1 in c:\\users\\pauline\\onedrive - queen mary, university of london\\repo_postdoc_2023_2025\\space_weather_project\\.venv\\lib\\site-packages (from cdasws==1.8.2->-r libraries_requirements.txt (line 10)) (2.2.2)\n",
      "Requirement already satisfied: gitdb<5,>=4.0.1 in c:\\users\\pauline\\onedrive - queen mary, university of london\\repo_postdoc_2023_2025\\space_weather_project\\.venv\\lib\\site-packages (from gitpython==3.1.43->-r libraries_requirements.txt (line 11)) (4.0.11)\n",
      "Requirement already satisfied: seaborn in c:\\users\\pauline\\onedrive - queen mary, university of london\\repo_postdoc_2023_2025\\space_weather_project\\.venv\\lib\\site-packages (from missingno==0.5.2->-r libraries_requirements.txt (line 12)) (0.13.2)\n",
      "Requirement already satisfied: ipython-genutils in c:\\users\\pauline\\onedrive - queen mary, university of london\\repo_postdoc_2023_2025\\space_weather_project\\.venv\\lib\\site-packages (from ipympl==0.9.4->-r libraries_requirements.txt (line 13)) (0.2.0)\n",
      "Requirement already satisfied: ipython<9 in c:\\users\\pauline\\onedrive - queen mary, university of london\\repo_postdoc_2023_2025\\space_weather_project\\.venv\\lib\\site-packages (from ipympl==0.9.4->-r libraries_requirements.txt (line 13)) (8.26.0)\n",
      "Requirement already satisfied: ipywidgets<9,>=7.6.0 in c:\\users\\pauline\\onedrive - queen mary, university of london\\repo_postdoc_2023_2025\\space_weather_project\\.venv\\lib\\site-packages (from ipympl==0.9.4->-r libraries_requirements.txt (line 13)) (8.1.3)\n",
      "Requirement already satisfied: traitlets<6 in c:\\users\\pauline\\onedrive - queen mary, university of london\\repo_postdoc_2023_2025\\space_weather_project\\.venv\\lib\\site-packages (from ipympl==0.9.4->-r libraries_requirements.txt (line 13)) (5.14.3)\n",
      "Requirement already satisfied: smmap<6,>=3.0.1 in c:\\users\\pauline\\onedrive - queen mary, university of london\\repo_postdoc_2023_2025\\space_weather_project\\.venv\\lib\\site-packages (from gitdb<5,>=4.0.1->gitpython==3.1.43->-r libraries_requirements.txt (line 11)) (5.0.1)\n",
      "Requirement already satisfied: decorator in c:\\users\\pauline\\onedrive - queen mary, university of london\\repo_postdoc_2023_2025\\space_weather_project\\.venv\\lib\\site-packages (from ipython<9->ipympl==0.9.4->-r libraries_requirements.txt (line 13)) (5.1.1)\n",
      "Requirement already satisfied: jedi>=0.16 in c:\\users\\pauline\\onedrive - queen mary, university of london\\repo_postdoc_2023_2025\\space_weather_project\\.venv\\lib\\site-packages (from ipython<9->ipympl==0.9.4->-r libraries_requirements.txt (line 13)) (0.19.1)\n",
      "Requirement already satisfied: matplotlib-inline in c:\\users\\pauline\\onedrive - queen mary, university of london\\repo_postdoc_2023_2025\\space_weather_project\\.venv\\lib\\site-packages (from ipython<9->ipympl==0.9.4->-r libraries_requirements.txt (line 13)) (0.1.7)\n",
      "Requirement already satisfied: prompt-toolkit<3.1.0,>=3.0.41 in c:\\users\\pauline\\onedrive - queen mary, university of london\\repo_postdoc_2023_2025\\space_weather_project\\.venv\\lib\\site-packages (from ipython<9->ipympl==0.9.4->-r libraries_requirements.txt (line 13)) (3.0.47)\n",
      "Requirement already satisfied: pygments>=2.4.0 in c:\\users\\pauline\\onedrive - queen mary, university of london\\repo_postdoc_2023_2025\\space_weather_project\\.venv\\lib\\site-packages (from ipython<9->ipympl==0.9.4->-r libraries_requirements.txt (line 13)) (2.18.0)\n",
      "Requirement already satisfied: stack-data in c:\\users\\pauline\\onedrive - queen mary, university of london\\repo_postdoc_2023_2025\\space_weather_project\\.venv\\lib\\site-packages (from ipython<9->ipympl==0.9.4->-r libraries_requirements.txt (line 13)) (0.6.3)\n",
      "Requirement already satisfied: typing-extensions>=4.6 in c:\\users\\pauline\\onedrive - queen mary, university of london\\repo_postdoc_2023_2025\\space_weather_project\\.venv\\lib\\site-packages (from ipython<9->ipympl==0.9.4->-r libraries_requirements.txt (line 13)) (4.12.2)\n",
      "Requirement already satisfied: colorama in c:\\users\\pauline\\onedrive - queen mary, university of london\\repo_postdoc_2023_2025\\space_weather_project\\.venv\\lib\\site-packages (from ipython<9->ipympl==0.9.4->-r libraries_requirements.txt (line 13)) (0.4.6)\n",
      "Requirement already satisfied: comm>=0.1.3 in c:\\users\\pauline\\onedrive - queen mary, university of london\\repo_postdoc_2023_2025\\space_weather_project\\.venv\\lib\\site-packages (from ipywidgets<9,>=7.6.0->ipympl==0.9.4->-r libraries_requirements.txt (line 13)) (0.2.2)\n",
      "Requirement already satisfied: widgetsnbextension~=4.0.11 in c:\\users\\pauline\\onedrive - queen mary, university of london\\repo_postdoc_2023_2025\\space_weather_project\\.venv\\lib\\site-packages (from ipywidgets<9,>=7.6.0->ipympl==0.9.4->-r libraries_requirements.txt (line 13)) (4.0.11)\n",
      "Requirement already satisfied: jupyterlab-widgets~=3.0.11 in c:\\users\\pauline\\onedrive - queen mary, university of london\\repo_postdoc_2023_2025\\space_weather_project\\.venv\\lib\\site-packages (from ipywidgets<9,>=7.6.0->ipympl==0.9.4->-r libraries_requirements.txt (line 13)) (3.0.11)\n",
      "Requirement already satisfied: six>=1.5 in c:\\users\\pauline\\onedrive - queen mary, university of london\\repo_postdoc_2023_2025\\space_weather_project\\.venv\\lib\\site-packages (from python-dateutil>=2.7->matplotlib==3.9.1->-r libraries_requirements.txt (line 2)) (1.16.0)\n",
      "Requirement already satisfied: charset-normalizer<4,>=2 in c:\\users\\pauline\\onedrive - queen mary, university of london\\repo_postdoc_2023_2025\\space_weather_project\\.venv\\lib\\site-packages (from requests>=2.20->cdasws==1.8.2->-r libraries_requirements.txt (line 10)) (3.3.2)\n",
      "Requirement already satisfied: idna<4,>=2.5 in c:\\users\\pauline\\onedrive - queen mary, university of london\\repo_postdoc_2023_2025\\space_weather_project\\.venv\\lib\\site-packages (from requests>=2.20->cdasws==1.8.2->-r libraries_requirements.txt (line 10)) (3.7)\n",
      "Requirement already satisfied: certifi>=2017.4.17 in c:\\users\\pauline\\onedrive - queen mary, university of london\\repo_postdoc_2023_2025\\space_weather_project\\.venv\\lib\\site-packages (from requests>=2.20->cdasws==1.8.2->-r libraries_requirements.txt (line 10)) (2024.7.4)\n",
      "Requirement already satisfied: parso<0.9.0,>=0.8.3 in c:\\users\\pauline\\onedrive - queen mary, university of london\\repo_postdoc_2023_2025\\space_weather_project\\.venv\\lib\\site-packages (from jedi>=0.16->ipython<9->ipympl==0.9.4->-r libraries_requirements.txt (line 13)) (0.8.4)\n",
      "Requirement already satisfied: wcwidth in c:\\users\\pauline\\onedrive - queen mary, university of london\\repo_postdoc_2023_2025\\space_weather_project\\.venv\\lib\\site-packages (from prompt-toolkit<3.1.0,>=3.0.41->ipython<9->ipympl==0.9.4->-r libraries_requirements.txt (line 13)) (0.2.13)\n",
      "Requirement already satisfied: executing>=1.2.0 in c:\\users\\pauline\\onedrive - queen mary, university of london\\repo_postdoc_2023_2025\\space_weather_project\\.venv\\lib\\site-packages (from stack-data->ipython<9->ipympl==0.9.4->-r libraries_requirements.txt (line 13)) (2.0.1)\n",
      "Requirement already satisfied: asttokens>=2.1.0 in c:\\users\\pauline\\onedrive - queen mary, university of london\\repo_postdoc_2023_2025\\space_weather_project\\.venv\\lib\\site-packages (from stack-data->ipython<9->ipympl==0.9.4->-r libraries_requirements.txt (line 13)) (2.4.1)\n",
      "Requirement already satisfied: pure-eval in c:\\users\\pauline\\onedrive - queen mary, university of london\\repo_postdoc_2023_2025\\space_weather_project\\.venv\\lib\\site-packages (from stack-data->ipython<9->ipympl==0.9.4->-r libraries_requirements.txt (line 13)) (0.2.2)\n",
      "Note: you may need to restart the kernel to use updated packages.\n"
     ]
    },
    {
     "name": "stderr",
     "output_type": "stream",
     "text": [
      "\n",
      "[notice] A new release of pip is available: 24.1.1 -> 24.2\n",
      "[notice] To update, run: python.exe -m pip install --upgrade pip\n"
     ]
    }
   ],
   "source": [
    "pip install -r libraries_requirements.txt"
   ]
  }
 ],
 "metadata": {
  "kernelspec": {
   "display_name": ".venv",
   "language": "python",
   "name": "python3"
  },
  "language_info": {
   "codemirror_mode": {
    "name": "ipython",
    "version": 3
   },
   "file_extension": ".py",
   "mimetype": "text/x-python",
   "name": "python",
   "nbconvert_exporter": "python",
   "pygments_lexer": "ipython3",
   "version": "3.11.5"
  }
 },
 "nbformat": 4,
 "nbformat_minor": 2
}
