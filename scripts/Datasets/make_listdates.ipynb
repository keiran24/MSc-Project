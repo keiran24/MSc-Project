{
 "cells": [
  {
   "cell_type": "markdown",
   "metadata": {},
   "source": [
    "# Selections of random dates"
   ]
  },
  {
   "cell_type": "markdown",
   "metadata": {},
   "source": [
    "## Modules and functions"
   ]
  },
  {
   "cell_type": "code",
   "execution_count": 1,
   "metadata": {},
   "outputs": [],
   "source": [
    "%load_ext autoreload\n",
    "%autoreload 2\n",
    "%matplotlib widget"
   ]
  },
  {
   "cell_type": "code",
   "execution_count": 1,
   "metadata": {},
   "outputs": [],
   "source": [
    "import bottleneck as bn\n",
    "import pandas as pd\n",
    "import numpy as np\n",
    "import ordpy\n",
    "import datetime\n",
    "import matplotlib.pyplot as plt\n",
    "from matplotlib import rc\n",
    "import sys\n",
    "import os \n",
    "from SWx_modules.visualising.description import describe_dataframe\n",
    "from SWx_modules.file_management.savloading import load_folder, save, load\n",
    "from SWx_modules.file_management.wind3sfromcdas import Wind3sFromCdas\n",
    "from SWx_modules.preprocessing.nan_interp import nan_helper"
   ]
  },
  {
   "cell_type": "code",
   "execution_count": 3,
   "metadata": {},
   "outputs": [],
   "source": [
    "# Matplotlib config\n",
    "%matplotlib widget\n",
    "\n",
    "plt.rcParams['text.usetex'] = True\n",
    "rc('xtick', labelsize=20) \n",
    "rc('ytick', labelsize=20) \n",
    "rc('font', size=20)\n",
    "rc('lines',linewidth=1)\n",
    "numfig = 0"
   ]
  },
  {
   "cell_type": "markdown",
   "metadata": {},
   "source": [
    "## Parameters"
   ]
  },
  {
   "cell_type": "code",
   "execution_count": 3,
   "metadata": {},
   "outputs": [
    {
     "data": {
      "text/plain": [
       "(array([   4,    8,   18,   38,   82,  175,  372,  793, 1690, 3600]),\n",
       " array([   96,   192,   432,   912,  1968,  4200,  8928, 19032, 40560,\n",
       "        86400]),\n",
       " array([   1.6,    3.2,    7.2,   15.2,   32.8,   70. ,  148.8,  317.2,\n",
       "         676. , 1440. ]),\n",
       " array([ 0.02666667,  0.05333333,  0.12      ,  0.25333333,  0.54666667,\n",
       "         1.16666667,  2.48      ,  5.28666667, 11.26666667, 24.        ]))"
      ]
     },
     "execution_count": 3,
     "metadata": {},
     "output_type": "execute_result"
    }
   ],
   "source": [
    "PL_len = np.geomspace(4,3600,10,dtype=int)\n",
    "PL_len, PL_len*24, PL_len*24/60, PL_len*24/60/60"
   ]
  },
  {
   "cell_type": "code",
   "execution_count": null,
   "metadata": {},
   "outputs": [
    {
     "data": {
      "application/vnd.jupyter.widget-view+json": {
       "model_id": "397e24590d7e44d986920567eef66399",
       "version_major": 2,
       "version_minor": 0
      },
      "image/png": "[encoded data removed]",
      "text/html": [
       "\n",
       "            <div style=\"display: inline-block;\">\n",
       "                <div class=\"jupyter-widgets widget-label\" style=\"text-align: center;\">\n",
       "                    pattern length\n",
       "                </div>\n",
       "                <img src='data:image/png;base64,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' width=640.0/>\n",
       "            </div>\n",
       "        "
      ],
      "text/plain": [
       "Canvas(toolbar=Toolbar(toolitems=[('Home', 'Reset original view', 'home', 'home'), ('Back', 'Back to previous …"
      ]
     },
     "metadata": {},
     "output_type": "display_data"
    }
   ],
   "source": [
    "plt.figure('pattern length',clear=True)\n",
    "plt.clf()\n",
    "ax = plt.gca()\n",
    "ax.plot(PL_len*24,PL_len*0,'.',label='seconds')\n",
    "ax.plot(PL_len*24/60,PL_len*0+1,'.',label='minutes')\n",
    "ax.plot(PL_len*24/60/60,PL_len*0+2,'.',label='hours')\n",
    "ax.set_xscale('log')\n",
    "ax.get_yaxis().set_visible(False)\n",
    "ax.legend()\n",
    "ax.grid()\n",
    "ax.set_xlabel('Pattern length')\n",
    "plt.tight_layout()\n",
    "plt.show()"
   ]
  },
  {
   "cell_type": "code",
   "execution_count": 94,
   "metadata": {},
   "outputs": [],
   "source": [
    "lengths_to_check_for_nan = PL_len"
   ]
  },
  {
   "cell_type": "markdown",
   "metadata": {},
   "source": [
    "## Original dataset"
   ]
  },
  {
   "cell_type": "code",
   "execution_count": 97,
   "metadata": {},
   "outputs": [
    {
     "name": "stdout",
     "output_type": "stream",
     "text": [
      "               NAN           GAP\n",
      "size     3358798.0  3.358798e+06\n",
      "nans(%)        0.0  0.000000e+00\n",
      "count          NaN  3.358798e+06\n",
      "mean           NaN  9.793176e-02\n",
      "std            NaN  8.478988e+00\n",
      "min            NaN  0.000000e+00\n",
      "25%            NaN  0.000000e+00\n",
      "50%            NaN  0.000000e+00\n",
      "75%            NaN  0.000000e+00\n",
      "max            NaN  8.126000e+03\n",
      "2004-05-03 00:00:24 2006-11-21 23:59:12\n"
     ]
    }
   ],
   "source": [
    "path = 'C:/Users/pauline/Documents/DATA/Space_Weather_Project/pattern_recognition_forecast/Article/Datasets/'\n",
    "for f in os.listdir(path):\n",
    "    if 'wind_plsp_24s_2004' in f:\n",
    "        file = f\n",
    "df_quantity = load(path, file, format_name='pkl')\n",
    "df_quantity = df_quantity[['NAN','GAP']]\n",
    "print(describe_dataframe(df_quantity))\n",
    "print(df_quantity.index[0], df_quantity.index[-1])"
   ]
  },
  {
   "cell_type": "markdown",
   "metadata": {},
   "source": [
    "## Filter index to keep dates with minimum of gaps/nan as reference\n",
    "\n",
    "criteria: \n",
    "- no more than 5% of nans in the pattern window\n",
    "- no gaps of more than 4% of the length in the pattern window \n",
    "- no gaps larger than 4% of the maximal pattern window in the future\n",
    "- at least 24h between to dates"
   ]
  },
  {
   "cell_type": "code",
   "execution_count": 191,
   "metadata": {},
   "outputs": [
    {
     "data": {
      "text/plain": [
       "(array([   4,    8,   18,   38,   82,  175,  372,  793, 1690, 3600]),\n",
       " array([  0.2 ,   0.4 ,   0.9 ,   1.9 ,   4.1 ,   8.75,  18.6 ,  39.65,\n",
       "         84.5 , 180.  ]),\n",
       " array([  0.16,   0.32,   0.72,   1.52,   3.28,   7.  ,  14.88,  31.72,\n",
       "         67.6 , 144.  ]))"
      ]
     },
     "execution_count": 191,
     "metadata": {},
     "output_type": "execute_result"
    }
   ],
   "source": [
    "PL_len, PL_len*5/100, PL_len*4/100"
   ]
  },
  {
   "cell_type": "code",
   "execution_count": 105,
   "metadata": {},
   "outputs": [
    {
     "data": {
      "text/html": [
       "<div>\n",
       "<style scoped>\n",
       "    .dataframe tbody tr th:only-of-type {\n",
       "        vertical-align: middle;\n",
       "    }\n",
       "\n",
       "    .dataframe tbody tr th {\n",
       "        vertical-align: top;\n",
       "    }\n",
       "\n",
       "    .dataframe thead th {\n",
       "        text-align: right;\n",
       "    }\n",
       "</style>\n",
       "<table border=\"1\" class=\"dataframe\">\n",
       "  <thead>\n",
       "    <tr style=\"text-align: right;\">\n",
       "      <th></th>\n",
       "      <th>NAN</th>\n",
       "      <th>GAP</th>\n",
       "      <th>NAN_B4</th>\n",
       "      <th>GAP_B4</th>\n",
       "      <th>NAN_B8</th>\n",
       "      <th>GAP_B8</th>\n",
       "      <th>NAN_B18</th>\n",
       "      <th>GAP_B18</th>\n",
       "      <th>NAN_B38</th>\n",
       "      <th>GAP_B38</th>\n",
       "      <th>...</th>\n",
       "      <th>GAP_B175</th>\n",
       "      <th>NAN_B372</th>\n",
       "      <th>GAP_B372</th>\n",
       "      <th>NAN_B793</th>\n",
       "      <th>GAP_B793</th>\n",
       "      <th>NAN_B1690</th>\n",
       "      <th>GAP_B1690</th>\n",
       "      <th>NAN_B3600</th>\n",
       "      <th>GAP_B3600</th>\n",
       "      <th>GAP_A3600</th>\n",
       "    </tr>\n",
       "  </thead>\n",
       "  <tbody>\n",
       "    <tr>\n",
       "      <th>2004-05-03 00:00:24</th>\n",
       "      <td>False</td>\n",
       "      <td>0</td>\n",
       "      <td>NaN</td>\n",
       "      <td>NaN</td>\n",
       "      <td>NaN</td>\n",
       "      <td>NaN</td>\n",
       "      <td>NaN</td>\n",
       "      <td>NaN</td>\n",
       "      <td>NaN</td>\n",
       "      <td>NaN</td>\n",
       "      <td>...</td>\n",
       "      <td>NaN</td>\n",
       "      <td>NaN</td>\n",
       "      <td>NaN</td>\n",
       "      <td>NaN</td>\n",
       "      <td>NaN</td>\n",
       "      <td>NaN</td>\n",
       "      <td>NaN</td>\n",
       "      <td>NaN</td>\n",
       "      <td>NaN</td>\n",
       "      <td>0.008333</td>\n",
       "    </tr>\n",
       "    <tr>\n",
       "      <th>2004-05-03 00:00:48</th>\n",
       "      <td>False</td>\n",
       "      <td>0</td>\n",
       "      <td>NaN</td>\n",
       "      <td>NaN</td>\n",
       "      <td>NaN</td>\n",
       "      <td>NaN</td>\n",
       "      <td>NaN</td>\n",
       "      <td>NaN</td>\n",
       "      <td>NaN</td>\n",
       "      <td>NaN</td>\n",
       "      <td>...</td>\n",
       "      <td>NaN</td>\n",
       "      <td>NaN</td>\n",
       "      <td>NaN</td>\n",
       "      <td>NaN</td>\n",
       "      <td>NaN</td>\n",
       "      <td>NaN</td>\n",
       "      <td>NaN</td>\n",
       "      <td>NaN</td>\n",
       "      <td>NaN</td>\n",
       "      <td>0.008333</td>\n",
       "    </tr>\n",
       "    <tr>\n",
       "      <th>2004-05-03 00:01:12</th>\n",
       "      <td>False</td>\n",
       "      <td>0</td>\n",
       "      <td>NaN</td>\n",
       "      <td>NaN</td>\n",
       "      <td>NaN</td>\n",
       "      <td>NaN</td>\n",
       "      <td>NaN</td>\n",
       "      <td>NaN</td>\n",
       "      <td>NaN</td>\n",
       "      <td>NaN</td>\n",
       "      <td>...</td>\n",
       "      <td>NaN</td>\n",
       "      <td>NaN</td>\n",
       "      <td>NaN</td>\n",
       "      <td>NaN</td>\n",
       "      <td>NaN</td>\n",
       "      <td>NaN</td>\n",
       "      <td>NaN</td>\n",
       "      <td>NaN</td>\n",
       "      <td>NaN</td>\n",
       "      <td>0.008333</td>\n",
       "    </tr>\n",
       "    <tr>\n",
       "      <th>2004-05-03 00:01:36</th>\n",
       "      <td>False</td>\n",
       "      <td>0</td>\n",
       "      <td>0.0</td>\n",
       "      <td>0.0</td>\n",
       "      <td>NaN</td>\n",
       "      <td>NaN</td>\n",
       "      <td>NaN</td>\n",
       "      <td>NaN</td>\n",
       "      <td>NaN</td>\n",
       "      <td>NaN</td>\n",
       "      <td>...</td>\n",
       "      <td>NaN</td>\n",
       "      <td>NaN</td>\n",
       "      <td>NaN</td>\n",
       "      <td>NaN</td>\n",
       "      <td>NaN</td>\n",
       "      <td>NaN</td>\n",
       "      <td>NaN</td>\n",
       "      <td>NaN</td>\n",
       "      <td>NaN</td>\n",
       "      <td>0.008333</td>\n",
       "    </tr>\n",
       "    <tr>\n",
       "      <th>2004-05-03 00:02:00</th>\n",
       "      <td>False</td>\n",
       "      <td>0</td>\n",
       "      <td>0.0</td>\n",
       "      <td>0.0</td>\n",
       "      <td>NaN</td>\n",
       "      <td>NaN</td>\n",
       "      <td>NaN</td>\n",
       "      <td>NaN</td>\n",
       "      <td>NaN</td>\n",
       "      <td>NaN</td>\n",
       "      <td>...</td>\n",
       "      <td>NaN</td>\n",
       "      <td>NaN</td>\n",
       "      <td>NaN</td>\n",
       "      <td>NaN</td>\n",
       "      <td>NaN</td>\n",
       "      <td>NaN</td>\n",
       "      <td>NaN</td>\n",
       "      <td>NaN</td>\n",
       "      <td>NaN</td>\n",
       "      <td>0.008333</td>\n",
       "    </tr>\n",
       "    <tr>\n",
       "      <th>...</th>\n",
       "      <td>...</td>\n",
       "      <td>...</td>\n",
       "      <td>...</td>\n",
       "      <td>...</td>\n",
       "      <td>...</td>\n",
       "      <td>...</td>\n",
       "      <td>...</td>\n",
       "      <td>...</td>\n",
       "      <td>...</td>\n",
       "      <td>...</td>\n",
       "      <td>...</td>\n",
       "      <td>...</td>\n",
       "      <td>...</td>\n",
       "      <td>...</td>\n",
       "      <td>...</td>\n",
       "      <td>...</td>\n",
       "      <td>...</td>\n",
       "      <td>...</td>\n",
       "      <td>...</td>\n",
       "      <td>...</td>\n",
       "      <td>...</td>\n",
       "    </tr>\n",
       "    <tr>\n",
       "      <th>2006-11-21 23:57:36</th>\n",
       "      <td>False</td>\n",
       "      <td>0</td>\n",
       "      <td>0.0</td>\n",
       "      <td>0.0</td>\n",
       "      <td>0.0</td>\n",
       "      <td>0.0</td>\n",
       "      <td>0.0</td>\n",
       "      <td>0.0</td>\n",
       "      <td>0.0</td>\n",
       "      <td>0.0</td>\n",
       "      <td>...</td>\n",
       "      <td>0.074286</td>\n",
       "      <td>0.107527</td>\n",
       "      <td>0.034946</td>\n",
       "      <td>0.076923</td>\n",
       "      <td>0.016393</td>\n",
       "      <td>0.089349</td>\n",
       "      <td>0.008284</td>\n",
       "      <td>0.083056</td>\n",
       "      <td>0.003889</td>\n",
       "      <td>NaN</td>\n",
       "    </tr>\n",
       "    <tr>\n",
       "      <th>2006-11-21 23:58:00</th>\n",
       "      <td>False</td>\n",
       "      <td>0</td>\n",
       "      <td>0.0</td>\n",
       "      <td>0.0</td>\n",
       "      <td>0.0</td>\n",
       "      <td>0.0</td>\n",
       "      <td>0.0</td>\n",
       "      <td>0.0</td>\n",
       "      <td>0.0</td>\n",
       "      <td>0.0</td>\n",
       "      <td>...</td>\n",
       "      <td>0.074286</td>\n",
       "      <td>0.107527</td>\n",
       "      <td>0.034946</td>\n",
       "      <td>0.076923</td>\n",
       "      <td>0.016393</td>\n",
       "      <td>0.089349</td>\n",
       "      <td>0.008284</td>\n",
       "      <td>0.083056</td>\n",
       "      <td>0.003889</td>\n",
       "      <td>NaN</td>\n",
       "    </tr>\n",
       "    <tr>\n",
       "      <th>2006-11-21 23:58:24</th>\n",
       "      <td>False</td>\n",
       "      <td>0</td>\n",
       "      <td>0.0</td>\n",
       "      <td>0.0</td>\n",
       "      <td>0.0</td>\n",
       "      <td>0.0</td>\n",
       "      <td>0.0</td>\n",
       "      <td>0.0</td>\n",
       "      <td>0.0</td>\n",
       "      <td>0.0</td>\n",
       "      <td>...</td>\n",
       "      <td>0.074286</td>\n",
       "      <td>0.107527</td>\n",
       "      <td>0.034946</td>\n",
       "      <td>0.076923</td>\n",
       "      <td>0.016393</td>\n",
       "      <td>0.089349</td>\n",
       "      <td>0.008284</td>\n",
       "      <td>0.083056</td>\n",
       "      <td>0.003889</td>\n",
       "      <td>NaN</td>\n",
       "    </tr>\n",
       "    <tr>\n",
       "      <th>2006-11-21 23:58:48</th>\n",
       "      <td>False</td>\n",
       "      <td>0</td>\n",
       "      <td>0.0</td>\n",
       "      <td>0.0</td>\n",
       "      <td>0.0</td>\n",
       "      <td>0.0</td>\n",
       "      <td>0.0</td>\n",
       "      <td>0.0</td>\n",
       "      <td>0.0</td>\n",
       "      <td>0.0</td>\n",
       "      <td>...</td>\n",
       "      <td>0.074286</td>\n",
       "      <td>0.107527</td>\n",
       "      <td>0.034946</td>\n",
       "      <td>0.076923</td>\n",
       "      <td>0.016393</td>\n",
       "      <td>0.089349</td>\n",
       "      <td>0.008284</td>\n",
       "      <td>0.083056</td>\n",
       "      <td>0.003889</td>\n",
       "      <td>NaN</td>\n",
       "    </tr>\n",
       "    <tr>\n",
       "      <th>2006-11-21 23:59:12</th>\n",
       "      <td>False</td>\n",
       "      <td>0</td>\n",
       "      <td>0.0</td>\n",
       "      <td>0.0</td>\n",
       "      <td>0.0</td>\n",
       "      <td>0.0</td>\n",
       "      <td>0.0</td>\n",
       "      <td>0.0</td>\n",
       "      <td>0.0</td>\n",
       "      <td>0.0</td>\n",
       "      <td>...</td>\n",
       "      <td>0.074286</td>\n",
       "      <td>0.107527</td>\n",
       "      <td>0.034946</td>\n",
       "      <td>0.076923</td>\n",
       "      <td>0.016393</td>\n",
       "      <td>0.089349</td>\n",
       "      <td>0.008284</td>\n",
       "      <td>0.083056</td>\n",
       "      <td>0.003889</td>\n",
       "      <td>NaN</td>\n",
       "    </tr>\n",
       "  </tbody>\n",
       "</table>\n",
       "<p>3358798 rows × 23 columns</p>\n",
       "</div>"
      ],
      "text/plain": [
       "                       NAN  GAP  NAN_B4  GAP_B4  NAN_B8  GAP_B8  NAN_B18  \\\n",
       "2004-05-03 00:00:24  False    0     NaN     NaN     NaN     NaN      NaN   \n",
       "2004-05-03 00:00:48  False    0     NaN     NaN     NaN     NaN      NaN   \n",
       "2004-05-03 00:01:12  False    0     NaN     NaN     NaN     NaN      NaN   \n",
       "2004-05-03 00:01:36  False    0     0.0     0.0     NaN     NaN      NaN   \n",
       "2004-05-03 00:02:00  False    0     0.0     0.0     NaN     NaN      NaN   \n",
       "...                    ...  ...     ...     ...     ...     ...      ...   \n",
       "2006-11-21 23:57:36  False    0     0.0     0.0     0.0     0.0      0.0   \n",
       "2006-11-21 23:58:00  False    0     0.0     0.0     0.0     0.0      0.0   \n",
       "2006-11-21 23:58:24  False    0     0.0     0.0     0.0     0.0      0.0   \n",
       "2006-11-21 23:58:48  False    0     0.0     0.0     0.0     0.0      0.0   \n",
       "2006-11-21 23:59:12  False    0     0.0     0.0     0.0     0.0      0.0   \n",
       "\n",
       "                     GAP_B18  NAN_B38  GAP_B38  ...  GAP_B175  NAN_B372  \\\n",
       "2004-05-03 00:00:24      NaN      NaN      NaN  ...       NaN       NaN   \n",
       "2004-05-03 00:00:48      NaN      NaN      NaN  ...       NaN       NaN   \n",
       "2004-05-03 00:01:12      NaN      NaN      NaN  ...       NaN       NaN   \n",
       "2004-05-03 00:01:36      NaN      NaN      NaN  ...       NaN       NaN   \n",
       "2004-05-03 00:02:00      NaN      NaN      NaN  ...       NaN       NaN   \n",
       "...                      ...      ...      ...  ...       ...       ...   \n",
       "2006-11-21 23:57:36      0.0      0.0      0.0  ...  0.074286  0.107527   \n",
       "2006-11-21 23:58:00      0.0      0.0      0.0  ...  0.074286  0.107527   \n",
       "2006-11-21 23:58:24      0.0      0.0      0.0  ...  0.074286  0.107527   \n",
       "2006-11-21 23:58:48      0.0      0.0      0.0  ...  0.074286  0.107527   \n",
       "2006-11-21 23:59:12      0.0      0.0      0.0  ...  0.074286  0.107527   \n",
       "\n",
       "                     GAP_B372  NAN_B793  GAP_B793  NAN_B1690  GAP_B1690  \\\n",
       "2004-05-03 00:00:24       NaN       NaN       NaN        NaN        NaN   \n",
       "2004-05-03 00:00:48       NaN       NaN       NaN        NaN        NaN   \n",
       "2004-05-03 00:01:12       NaN       NaN       NaN        NaN        NaN   \n",
       "2004-05-03 00:01:36       NaN       NaN       NaN        NaN        NaN   \n",
       "2004-05-03 00:02:00       NaN       NaN       NaN        NaN        NaN   \n",
       "...                       ...       ...       ...        ...        ...   \n",
       "2006-11-21 23:57:36  0.034946  0.076923  0.016393   0.089349   0.008284   \n",
       "2006-11-21 23:58:00  0.034946  0.076923  0.016393   0.089349   0.008284   \n",
       "2006-11-21 23:58:24  0.034946  0.076923  0.016393   0.089349   0.008284   \n",
       "2006-11-21 23:58:48  0.034946  0.076923  0.016393   0.089349   0.008284   \n",
       "2006-11-21 23:59:12  0.034946  0.076923  0.016393   0.089349   0.008284   \n",
       "\n",
       "                     NAN_B3600  GAP_B3600  GAP_A3600  \n",
       "2004-05-03 00:00:24        NaN        NaN   0.008333  \n",
       "2004-05-03 00:00:48        NaN        NaN   0.008333  \n",
       "2004-05-03 00:01:12        NaN        NaN   0.008333  \n",
       "2004-05-03 00:01:36        NaN        NaN   0.008333  \n",
       "2004-05-03 00:02:00        NaN        NaN   0.008333  \n",
       "...                        ...        ...        ...  \n",
       "2006-11-21 23:57:36   0.083056   0.003889        NaN  \n",
       "2006-11-21 23:58:00   0.083056   0.003889        NaN  \n",
       "2006-11-21 23:58:24   0.083056   0.003889        NaN  \n",
       "2006-11-21 23:58:48   0.083056   0.003889        NaN  \n",
       "2006-11-21 23:59:12   0.083056   0.003889        NaN  \n",
       "\n",
       "[3358798 rows x 23 columns]"
      ]
     },
     "execution_count": 105,
     "metadata": {},
     "output_type": "execute_result"
    }
   ],
   "source": [
    "# count in windows \n",
    "for length in lengths_to_check_for_nan:\n",
    "    df_quantity['NAN_B'+str(length)] = bn.move_sum(df_quantity['NAN'],length, min_count=length)/length # count number of nans in the past length\n",
    "    df_quantity['GAP_B'+str(length)] = bn.move_max(df_quantity['GAP'],length, min_count=length)/length # max size of gaps in the past length\n",
    "    df_quantity.loc[df_quantity['GAP_B'+str(length)]>1,'GAP_B'+str(length)] = 1\n",
    "df_quantity['GAP_A'+str(lengths_to_check_for_nan[-1])] = df_quantity['GAP_B'+str(lengths_to_check_for_nan[-1])].shift(periods=-lengths_to_check_for_nan[-1])\n",
    "df_quantity.replace(np.nan,99,inplace=True)\n",
    "df_quantity"
   ]
  },
  {
   "cell_type": "code",
   "execution_count": 195,
   "metadata": {},
   "outputs": [
    {
     "data": {
      "text/plain": [
       "(3358798,\n",
       " np.int64(157828),\n",
       " Timestamp('2005-12-24 18:07:36'),\n",
       " Timestamp('2004-05-04 03:26:24'))"
      ]
     },
     "execution_count": 195,
     "metadata": {},
     "output_type": "execute_result"
    }
   ],
   "source": [
    "# apply nans and gaps criteria\n",
    "criteria = df_quantity[['NAN_B4', 'GAP_B4', 'NAN_B8', 'GAP_B8', 'NAN_B18',\n",
    "       'GAP_B18', 'NAN_B38', 'GAP_B38', 'NAN_B82', 'GAP_B82', 'NAN_B175',\n",
    "       'GAP_B175', 'NAN_B372', 'GAP_B372', 'NAN_B793', 'GAP_B793', 'NAN_B1690',\n",
    "       'GAP_B1690', 'NAN_B3600', 'GAP_B3600', 'GAP_A3600']].copy()\n",
    "for col in criteria.columns:\n",
    "    if 'NAN_B' in col:\n",
    "        criteria[col] = criteria[col] < 0.05\n",
    "    if 'GAP_B' in col:\n",
    "        criteria[col] = criteria[col] < 0.04\n",
    "    if 'GAP_A' in col:\n",
    "        criteria[col] = criteria[col] < 0.04\n",
    "criteria_total = (criteria.sum(axis=1) == criteria.shape[1])\n",
    "good_dates = criteria_total[criteria_total].index\n",
    "len(criteria_total), criteria_total.sum(), max(criteria_total[criteria_total].index), min(criteria_total[criteria_total].index)\n"
   ]
  },
  {
   "cell_type": "code",
   "execution_count": 206,
   "metadata": {},
   "outputs": [
    {
     "data": {
      "text/plain": [
       "495"
      ]
     },
     "execution_count": 206,
     "metadata": {},
     "output_type": "execute_result"
    }
   ],
   "source": [
    "# apply distance criteria\n",
    "dates_to_keep = [good_dates[0],]\n",
    "for g in good_dates[1:]:\n",
    "    if g - dates_to_keep[-1] > pd.to_timedelta(12,unit='h'):\n",
    "        dates_to_keep.append(g)\n",
    "len(dates_to_keep)\n"
   ]
  },
  {
   "cell_type": "markdown",
   "metadata": {},
   "source": [
    "## Random draw of 200 dates\n",
    "(but keep good dates in previous set)"
   ]
  },
  {
   "cell_type": "code",
   "execution_count": 207,
   "metadata": {},
   "outputs": [
    {
     "data": {
      "text/plain": [
       "200"
      ]
     },
     "execution_count": 207,
     "metadata": {},
     "output_type": "execute_result"
    }
   ],
   "source": [
    "nb_dates = 200\n",
    "dates_to_save = []\n",
    "draw = np.random.choice(len(dates_to_keep), size=nb_dates, replace=False)\n",
    "dates_to_save = [dates_to_keep[d] for d in draw]\n",
    "len(dates_to_save)"
   ]
  },
  {
   "cell_type": "code",
   "execution_count": 219,
   "metadata": {},
   "outputs": [
    {
     "name": "stdout",
     "output_type": "stream",
     "text": [
      "12.006666666666666 421.44\n",
      "17.063333333333333 72.51333333333334\n",
      "64.53051926298157 71.67486425873929\n",
      "40.193333333333335\n"
     ]
    }
   ],
   "source": [
    "dates_to_save.sort()\n",
    "distance = [(dates_to_save[d+1]-dates_to_save[d])/datetime.timedelta(hours=1) for d in range(len(dates_to_save)-1)]\n",
    "print(min(distance),max(distance))\n",
    "print(np.quantile(distance,0.25),np.quantile(distance,0.75))\n",
    "print(np.mean(distance),np.std(distance))\n",
    "print(np.median(distance))"
   ]
  },
  {
   "cell_type": "code",
   "execution_count": 223,
   "metadata": {},
   "outputs": [
    {
     "data": {
      "application/vnd.jupyter.widget-view+json": {
       "model_id": "64d6c6ca09b141acb6cec8b62295a4d8",
       "version_major": 2,
       "version_minor": 0
      },
      "image/png": "[encoded data removed]",
      "text/html": [
       "\n",
       "            <div style=\"display: inline-block;\">\n",
       "                <div class=\"jupyter-widgets widget-label\" style=\"text-align: center;\">\n",
       "                    dates\n",
       "                </div>\n",
       "                <img src='data:image/png;base64,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' width=640.0/>\n",
       "            </div>\n",
       "        "
      ],
      "text/plain": [
       "Canvas(toolbar=Toolbar(toolitems=[('Home', 'Reset original view', 'home', 'home'), ('Back', 'Back to previous …"
      ]
     },
     "metadata": {},
     "output_type": "display_data"
    }
   ],
   "source": [
    "plt.figure('dates')\n",
    "plt.clf()\n",
    "plt.scatter(dates_to_save,np.ones(len(dates_to_save)))\n",
    "plt.show()"
   ]
  },
  {
   "cell_type": "code",
   "execution_count": 217,
   "metadata": {},
   "outputs": [],
   "source": [
    "save(list(dates_to_save), path, 'dates_5pctnans_4pctgaps_200.json','json')\n",
    "save({'pattern_size':PL_len,'resolution':'24s'}, path, 'pattern_size_10.json','json')"
   ]
  }
 ],
 "metadata": {
  "kernelspec": {
   "display_name": ".venv",
   "language": "python",
   "name": "python3"
  },
  "language_info": {
   "codemirror_mode": {
    "name": "ipython",
    "version": 3
   },
   "file_extension": ".py",
   "mimetype": "text/x-python",
   "name": "python",
   "nbconvert_exporter": "python",
   "pygments_lexer": "ipython3",
   "version": "3.11.5"
  }
 },
 "nbformat": 4,
 "nbformat_minor": 2
}
